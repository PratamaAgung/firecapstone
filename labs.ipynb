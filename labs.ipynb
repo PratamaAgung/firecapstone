{
 "cells": [
  {
   "cell_type": "code",
   "execution_count": 24,
   "metadata": {},
   "outputs": [],
   "source": [
    "import pandas as pd\n",
    "import matplotlib.pyplot as plt\n",
    "from datetime import date"
   ]
  },
  {
   "cell_type": "code",
   "execution_count": 2,
   "metadata": {},
   "outputs": [],
   "source": [
    "file_path = 'data_input/data.csv'\n",
    "id = ['936','1178']"
   ]
  },
  {
   "cell_type": "markdown",
   "metadata": {},
   "source": [
    "## Extract Summary"
   ]
  },
  {
   "cell_type": "code",
   "execution_count": 3,
   "metadata": {},
   "outputs": [],
   "source": [
    "fb = pd.read_csv(file_path)\n",
    "campaigns = fb[fb['campaign_id'].isin(id)]\n",
    "campaigns = campaigns[campaigns.spent > 0]"
   ]
  },
  {
   "cell_type": "code",
   "execution_count": 5,
   "metadata": {},
   "outputs": [
    {
     "data": {
      "text/html": [
       "<div>\n",
       "<style scoped>\n",
       "    .dataframe tbody tr th:only-of-type {\n",
       "        vertical-align: middle;\n",
       "    }\n",
       "\n",
       "    .dataframe tbody tr th {\n",
       "        vertical-align: top;\n",
       "    }\n",
       "\n",
       "    .dataframe thead th {\n",
       "        text-align: right;\n",
       "    }\n",
       "</style>\n",
       "<table border=\"1\" class=\"dataframe\">\n",
       "  <thead>\n",
       "    <tr style=\"text-align: right;\">\n",
       "      <th></th>\n",
       "      <th>ad_id</th>\n",
       "      <th>reporting_start</th>\n",
       "      <th>reporting_end</th>\n",
       "      <th>campaign_id</th>\n",
       "      <th>fb_campaign_id</th>\n",
       "      <th>age</th>\n",
       "      <th>gender</th>\n",
       "      <th>interest1</th>\n",
       "      <th>interest2</th>\n",
       "      <th>interest3</th>\n",
       "      <th>impressions</th>\n",
       "      <th>clicks</th>\n",
       "      <th>spent</th>\n",
       "      <th>total_conversion</th>\n",
       "      <th>approved_conversion</th>\n",
       "    </tr>\n",
       "  </thead>\n",
       "  <tbody>\n",
       "    <tr>\n",
       "      <th>55</th>\n",
       "      <td>734210</td>\n",
       "      <td>25/08/2017</td>\n",
       "      <td>25/08/2017</td>\n",
       "      <td>936</td>\n",
       "      <td>108654</td>\n",
       "      <td>30-34</td>\n",
       "      <td>M</td>\n",
       "      <td>10</td>\n",
       "      <td>16</td>\n",
       "      <td>13</td>\n",
       "      <td>13329.0</td>\n",
       "      <td>4</td>\n",
       "      <td>5.63</td>\n",
       "      <td>1.0</td>\n",
       "      <td>1.0</td>\n",
       "    </tr>\n",
       "    <tr>\n",
       "      <th>56</th>\n",
       "      <td>734215</td>\n",
       "      <td>26/08/2017</td>\n",
       "      <td>26/08/2017</td>\n",
       "      <td>936</td>\n",
       "      <td>108655</td>\n",
       "      <td>30-34</td>\n",
       "      <td>M</td>\n",
       "      <td>15</td>\n",
       "      <td>19</td>\n",
       "      <td>17</td>\n",
       "      <td>13659.0</td>\n",
       "      <td>3</td>\n",
       "      <td>3.84</td>\n",
       "      <td>1.0</td>\n",
       "      <td>0.0</td>\n",
       "    </tr>\n",
       "  </tbody>\n",
       "</table>\n",
       "</div>"
      ],
      "text/plain": [
       "     ad_id reporting_start reporting_end campaign_id fb_campaign_id    age  \\\n",
       "55  734210      25/08/2017    25/08/2017         936         108654  30-34   \n",
       "56  734215      26/08/2017    26/08/2017         936         108655  30-34   \n",
       "\n",
       "   gender  interest1  interest2  interest3  impressions  clicks  spent  \\\n",
       "55      M         10         16         13      13329.0       4   5.63   \n",
       "56      M         15         19         17      13659.0       3   3.84   \n",
       "\n",
       "    total_conversion  approved_conversion  \n",
       "55               1.0                  1.0  \n",
       "56               1.0                  0.0  "
      ]
     },
     "execution_count": 5,
     "metadata": {},
     "output_type": "execute_result"
    }
   ],
   "source": [
    "campaigns.head(2)"
   ]
  },
  {
   "cell_type": "code",
   "execution_count": 4,
   "metadata": {},
   "outputs": [
    {
     "data": {
      "text/plain": [
       "ad_id                    int64\n",
       "reporting_start         object\n",
       "reporting_end           object\n",
       "campaign_id             object\n",
       "fb_campaign_id          object\n",
       "age                     object\n",
       "gender                  object\n",
       "interest1                int64\n",
       "interest2                int64\n",
       "interest3                int64\n",
       "impressions            float64\n",
       "clicks                   int64\n",
       "spent                  float64\n",
       "total_conversion       float64\n",
       "approved_conversion    float64\n",
       "dtype: object"
      ]
     },
     "execution_count": 4,
     "metadata": {},
     "output_type": "execute_result"
    }
   ],
   "source": [
    "campaigns.dtypes"
   ]
  },
  {
   "cell_type": "code",
   "execution_count": 6,
   "metadata": {},
   "outputs": [],
   "source": [
    "# Make sure to passed in appropriate preprocessing before extracting the start and end date\n",
    "campaigns['reporting_start'] = pd.to_datetime(campaigns['reporting_start'], format='%d/%m/%Y')\n",
    "start_date = campaigns['reporting_start'].min().strftime(format=\"%d %b %Y\")\n",
    "end_date = campaigns['reporting_start'].max().strftime(format=\"%d %b %Y\")"
   ]
  },
  {
   "cell_type": "code",
   "execution_count": 7,
   "metadata": {},
   "outputs": [
    {
     "name": "stdout",
     "output_type": "stream",
     "text": [
      "Start_date: 18 Aug 2017\n",
      "End date: 30 Aug 2017\n"
     ]
    }
   ],
   "source": [
    "print('Start_date: {}'.format(start_date))\n",
    "print('End date: {}'.format(end_date))"
   ]
  },
  {
   "cell_type": "code",
   "execution_count": 12,
   "metadata": {},
   "outputs": [],
   "source": [
    "total_spent = int(campaigns['spent'].sum())\n",
    "total_conversion = int(campaigns['total_conversion'].sum())"
   ]
  },
  {
   "cell_type": "code",
   "execution_count": 13,
   "metadata": {},
   "outputs": [
    {
     "name": "stdout",
     "output_type": "stream",
     "text": [
      "Total spend: 19470\n",
      "Total conv: 1398\n"
     ]
    }
   ],
   "source": [
    "print('Total spend: {}'.format(total_spent))\n",
    "print('Total conv: {}'.format(total_conversion))"
   ]
  },
  {
   "cell_type": "code",
   "execution_count": 14,
   "metadata": {},
   "outputs": [
    {
     "name": "stdout",
     "output_type": "stream",
     "text": [
      "{'936': 8.13, '1178': 15.91}\n"
     ]
    }
   ],
   "source": [
    "# Create a cost per conversion dictionary per campaign\n",
    "# Cost per conversion is spent divided by total conversion\n",
    "cpc = campaigns.groupby(['campaign_id'])[['spent', 'total_conversion']].sum()\n",
    "cpc['CPC'] = cpc['spent']/cpc['total_conversion']\n",
    "cpc_each = dict()\n",
    "for each in id:\n",
    "    cpc_each[each] = round(float(cpc[cpc.index == each]['CPC']), 2)\n",
    "\n",
    "print(cpc_each)"
   ]
  },
  {
   "cell_type": "markdown",
   "metadata": {},
   "source": [
    "## Create plot"
   ]
  },
  {
   "cell_type": "code",
   "execution_count": 15,
   "metadata": {},
   "outputs": [],
   "source": [
    "fb = pd.read_csv(file_path, parse_dates=[1,2])\n",
    "campaigns = fb[fb['campaign_id'].isin(id)]\n",
    "campaigns = campaigns[campaigns.spent > 0]\n",
    "\n",
    "# Create a grouped dataframe based on campaign id, age group, and reporting date\n",
    "# Calculate the total converision of each group\n",
    "grouped = campaigns.groupby(by=['campaign_id', 'age', 'reporting_start'], as_index=False)['total_conversion'].sum()"
   ]
  },
  {
   "cell_type": "code",
   "execution_count": 16,
   "metadata": {},
   "outputs": [
    {
     "data": {
      "text/html": [
       "<div>\n",
       "<style scoped>\n",
       "    .dataframe tbody tr th:only-of-type {\n",
       "        vertical-align: middle;\n",
       "    }\n",
       "\n",
       "    .dataframe tbody tr th {\n",
       "        vertical-align: top;\n",
       "    }\n",
       "\n",
       "    .dataframe thead th {\n",
       "        text-align: right;\n",
       "    }\n",
       "</style>\n",
       "<table border=\"1\" class=\"dataframe\">\n",
       "  <thead>\n",
       "    <tr style=\"text-align: right;\">\n",
       "      <th></th>\n",
       "      <th>campaign_id</th>\n",
       "      <th>age</th>\n",
       "      <th>reporting_start</th>\n",
       "      <th>total_conversion</th>\n",
       "    </tr>\n",
       "  </thead>\n",
       "  <tbody>\n",
       "    <tr>\n",
       "      <th>0</th>\n",
       "      <td>1178</td>\n",
       "      <td>30-34</td>\n",
       "      <td>2017-08-19</td>\n",
       "      <td>33.0</td>\n",
       "    </tr>\n",
       "    <tr>\n",
       "      <th>1</th>\n",
       "      <td>1178</td>\n",
       "      <td>30-34</td>\n",
       "      <td>2017-08-20</td>\n",
       "      <td>38.0</td>\n",
       "    </tr>\n",
       "    <tr>\n",
       "      <th>2</th>\n",
       "      <td>1178</td>\n",
       "      <td>30-34</td>\n",
       "      <td>2017-08-21</td>\n",
       "      <td>24.0</td>\n",
       "    </tr>\n",
       "    <tr>\n",
       "      <th>3</th>\n",
       "      <td>1178</td>\n",
       "      <td>30-34</td>\n",
       "      <td>2017-08-22</td>\n",
       "      <td>56.0</td>\n",
       "    </tr>\n",
       "    <tr>\n",
       "      <th>4</th>\n",
       "      <td>1178</td>\n",
       "      <td>30-34</td>\n",
       "      <td>2017-08-23</td>\n",
       "      <td>135.0</td>\n",
       "    </tr>\n",
       "  </tbody>\n",
       "</table>\n",
       "</div>"
      ],
      "text/plain": [
       "  campaign_id    age reporting_start  total_conversion\n",
       "0        1178  30-34      2017-08-19              33.0\n",
       "1        1178  30-34      2017-08-20              38.0\n",
       "2        1178  30-34      2017-08-21              24.0\n",
       "3        1178  30-34      2017-08-22              56.0\n",
       "4        1178  30-34      2017-08-23             135.0"
      ]
     },
     "execution_count": 16,
     "metadata": {},
     "output_type": "execute_result"
    }
   ],
   "source": [
    "grouped.head()"
   ]
  },
  {
   "cell_type": "code",
   "execution_count": 22,
   "metadata": {},
   "outputs": [
    {
     "data": {
      "image/png": "[encoded data removed]",
      "text/plain": [
       "<Figure size 1080x432 with 2 Axes>"
      ]
     },
     "metadata": {
      "needs_background": "light"
     },
     "output_type": "display_data"
    }
   ],
   "source": [
    "fig = plt.figure(1, figsize=(15,6))\n",
    "\n",
    "# Iterate to create 1 plot campaign at a time\n",
    "for i, campaign in enumerate(grouped.campaign_id.unique()):\n",
    "    plt.subplot(1, len(id), i+1)\n",
    "\n",
    "    df = grouped[grouped['campaign_id'] == campaign].loc[:,['age', 'reporting_start', 'total_conversion']]\n",
    "    df['reporting_start'] = df['reporting_start'].dt.date\n",
    "    pivot = df.pivot(index='reporting_start', columns='age', values='total_conversion').fillna(0)\n",
    "    pivot.plot.bar(ax=plt.gca(), title='Campaign ID: {}'.format(campaign))\n",
    "\n",
    "fig.suptitle('Campaign Conversion per Age Group', fontsize=20)\n",
    "fig.autofmt_xdate()"
   ]
  },
  {
   "cell_type": "code",
   "execution_count": 25,
   "metadata": {},
   "outputs": [],
   "source": [
    "# Save file to plot folder\n",
    "imagename = 'plot/'+date.today().strftime(format=\"%d %b %Y\")+'.png'\n",
    "fig.savefig(imagename)"
   ]
  }
 ],
 "metadata": {
  "kernelspec": {
   "display_name": "Python [conda env:conda-algoritma] *",
   "language": "python",
   "name": "conda-env-conda-algoritma-py"
  },
  "language_info": {
   "codemirror_mode": {
    "name": "ipython",
    "version": 3
   },
   "file_extension": ".py",
   "mimetype": "text/x-python",
   "name": "python",
   "nbconvert_exporter": "python",
   "pygments_lexer": "ipython3",
   "version": "3.8.3"
  },
  "toc": {
   "base_numbering": 1,
   "nav_menu": {},
   "number_sections": true,
   "sideBar": true,
   "skip_h1_title": false,
   "title_cell": "Table of Contents",
   "title_sidebar": "Contents",
   "toc_cell": false,
   "toc_position": {},
   "toc_section_display": true,
   "toc_window_display": false
  }
 },
 "nbformat": 4,
 "nbformat_minor": 4
}
